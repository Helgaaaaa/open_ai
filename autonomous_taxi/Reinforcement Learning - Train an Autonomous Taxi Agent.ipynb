{
 "cells": [
  {
   "cell_type": "markdown",
   "metadata": {},
   "source": [
    "# Training an Autonomous Taxi Agent\n",
    "\n",
    "* Train a taxi agent to traverse a gridworld to pick up and drop off passengers using Q-learning\n",
    "* <b>Agent</b>: Taxi-driver \n",
    "* <b>Environment (state space)</b>: = 500 discrete states\n",
    "* <b>Environment Dynamics</b>:\n",
    "    * Episode starts: Taxi starts at random square and passenger is at random location (R,G,B,Y)\n",
    "    * Episode ends when the passenger is dropped off (or reaches a max of 200 steps per episode)\n",
    "* <b>Reward</b>: \n",
    "    * -1 for every time-step\n",
    "    * +20 points for successful drop off\n",
    "    * -10 penalty for illegal pick up and drop off maneuvers \n",
    "* OpenAI gym: https://gym.openai.com/"
   ]
  },
  {
   "cell_type": "code",
   "execution_count": 36,
   "metadata": {},
   "outputs": [
    {
     "name": "stdout",
     "output_type": "stream",
     "text": [
      "Run Date:  2021-10-21\n",
      "\n",
      "-------------- Dependencies --------------\n",
      "Numpy:  1.19.5\n",
      "Pandas:  1.3.3\n",
      "Gym:  0.21.0\n"
     ]
    }
   ],
   "source": [
    "import time\n",
    "from datetime import date\n",
    "import os\n",
    "import random\n",
    "import numpy as np\n",
    "import pandas as pd\n",
    "import matplotlib.pyplot as plt \n",
    "import seaborn as sns\n",
    "\n",
    "try: \n",
    "    import gym # RL library to create environments\n",
    "except:\n",
    "    !pip install gym\n",
    "    \n",
    "from IPython.display import clear_output\n",
    "\n",
    "print('Run Date: ', date.today())\n",
    "#print('Associate: ', os.getlogin())\n",
    "\n",
    "print('\\n-------------- Dependencies --------------')\n",
    "print('Numpy: ', np.__version__)\n",
    "print('Pandas: ', pd.__version__)\n",
    "print('Gym: ', gym.__version__)"
   ]
  },
  {
   "cell_type": "code",
   "execution_count": 58,
   "metadata": {},
   "outputs": [],
   "source": [
    "# Create Taxi environment provided by OpenAI gym \n",
    "\n",
    "env = gym.make('Taxi-v3')"
   ]
  },
  {
   "cell_type": "markdown",
   "metadata": {},
   "source": [
    "### What is available to us in gym's environment?"
   ]
  },
  {
   "cell_type": "markdown",
   "metadata": {},
   "source": [
    "Rendering:\n",
    "- Blue: Passenger location\n",
    "- Magenta: Drop-off location\n",
    "- Yellow: Empty Taxi\n",
    "- Green: Full Taxi\n",
    "- Other letters: (R, G, Y and B): Locations for passengers and destinations"
   ]
  },
  {
   "cell_type": "code",
   "execution_count": 59,
   "metadata": {},
   "outputs": [
    {
     "name": "stdout",
     "output_type": "stream",
     "text": [
      "+---------+\n",
      "|\u001b[35mR\u001b[0m: | : :G|\n",
      "| : | : : |\n",
      "| : : : : |\n",
      "| | :\u001b[43m \u001b[0m| : |\n",
      "|\u001b[34;1mY\u001b[0m| : |B: |\n",
      "+---------+\n",
      "\n"
     ]
    }
   ],
   "source": [
    "env.render() # show environment"
   ]
  },
  {
   "cell_type": "markdown",
   "metadata": {},
   "source": [
    "<b>Passenger locations</b> (5):\n",
    "- 0: R\n",
    "- 1: G\n",
    "- 2: Y\n",
    "- 3: B\n",
    "- 4: Inside Taxi\n",
    "\n",
    "<b>Drop-off Locations</b> (4)\n",
    "- 0: R\n",
    "- 1: G\n",
    "- 2: Y\n",
    "- 3: B\n",
    "\n",
    "<b>Taxi locations</b> (5x5 Grid) \n",
    "\n",
    "<b>Total Possible States</b> (500)\n",
    "- ( Passenger locations * Drop-off Locations * Taxi Locations ) = ( 5 * 4 * 5 * 5 ) = 500 "
   ]
  },
  {
   "cell_type": "markdown",
   "metadata": {},
   "source": [
    "### Environment"
   ]
  },
  {
   "cell_type": "code",
   "execution_count": 60,
   "metadata": {},
   "outputs": [
    {
     "data": {
      "text/plain": [
       "500"
      ]
     },
     "execution_count": 60,
     "metadata": {},
     "output_type": "execute_result"
    }
   ],
   "source": [
    "# Environment / State Space \n",
    "\n",
    "env.observation_space.n"
   ]
  },
  {
   "cell_type": "markdown",
   "metadata": {},
   "source": [
    "### Actions\n",
    "\n",
    "There are 6 discrete deterministic actions:\n",
    "- 0: move south\n",
    "- 1: move north\n",
    "- 2: move east\n",
    "- 3: move west\n",
    "- 4: pickup passenger\n",
    "- 5: drop off passenger"
   ]
  },
  {
   "cell_type": "code",
   "execution_count": 61,
   "metadata": {},
   "outputs": [
    {
     "data": {
      "text/plain": [
       "6"
      ]
     },
     "execution_count": 61,
     "metadata": {},
     "output_type": "execute_result"
    }
   ],
   "source": [
    "# Action space size\n",
    "\n",
    "env.action_space.n"
   ]
  },
  {
   "cell_type": "code",
   "execution_count": 62,
   "metadata": {},
   "outputs": [
    {
     "data": {
      "text/plain": [
       "5"
      ]
     },
     "execution_count": 62,
     "metadata": {},
     "output_type": "execute_result"
    }
   ],
   "source": [
    "# Sample the action space and select random actions with equal probability \n",
    "\n",
    "env.action_space.sample()"
   ]
  },
  {
   "cell_type": "markdown",
   "metadata": {},
   "source": [
    "### Rewards\n",
    "- -1 reward per timestep\n",
    "- +20 reward for successful dropoff \n",
    "- -10 penalty for illegal pickup and drop off maneuvers"
   ]
  },
  {
   "cell_type": "code",
   "execution_count": 63,
   "metadata": {},
   "outputs": [
    {
     "name": "stdout",
     "output_type": "stream",
     "text": [
      "+---------+\n",
      "|R: | : :\u001b[34;1mG\u001b[0m|\n",
      "| : | : : |\n",
      "|\u001b[43m \u001b[0m: : : : |\n",
      "| | : | : |\n",
      "|\u001b[35mY\u001b[0m| : |B: |\n",
      "+---------+\n",
      "\n",
      "Current state:  206\n",
      "+---------+\n",
      "|R: | : :\u001b[34;1mG\u001b[0m|\n",
      "| : | : : |\n",
      "| : : : : |\n",
      "|\u001b[43m \u001b[0m| : | : |\n",
      "|\u001b[35mY\u001b[0m| : |B: |\n",
      "+---------+\n",
      "  (South)\n",
      "Next state:  306\n",
      "Reward:  -1\n"
     ]
    }
   ],
   "source": [
    "current_state = env.reset() #reset environment (random) -- returns state\n",
    "env.render() #render environment (current state)\n",
    "print('Current state: ', current_state)\n",
    "\n",
    "action = 0\n",
    "next_state, reward, done, _ = env.step(action) # take action 0 (move south)\n",
    "env.render() #render environment (next state)\n",
    "\n",
    "print(\"Next state: \", next_state)\n",
    "print(\"Reward: \", reward)"
   ]
  },
  {
   "cell_type": "markdown",
   "metadata": {},
   "source": [
    "## Create an \"dumb\" agent that only selects random actions.\n",
    "\n",
    "Agent is not trained to move intelligently through the environment.\n",
    "\n",
    "Run 10 episodes of a randomly-acting agent and find the average reward"
   ]
  },
  {
   "cell_type": "code",
   "execution_count": 64,
   "metadata": {},
   "outputs": [],
   "source": [
    "actions_dict = {0: 'Move South', 1: 'Move North', 2: 'Move East', 3: 'Move West', 4: 'Pickup Passenger' ,5: 'Dropoff Passenger'}\n",
    "rewards_dict = {-10: 'Illegal Dropoff Move', -1: 'Single Step', 20: 'Successful Dropoff'}"
   ]
  },
  {
   "cell_type": "code",
   "execution_count": 65,
   "metadata": {},
   "outputs": [
    {
     "name": "stdout",
     "output_type": "stream",
     "text": [
      "************************************************************************\n",
      "Episode Rewards:  [-758, -677, -839, -623, -758, -776, -749, -812, -713, -812]\n",
      "Episode Steps Taken:  [200, 200, 200, 200, 200, 200, 200, 200, 200, 200]\n",
      "Average reward over 10 episodes =  -751.7\n",
      "************************************************************************\n"
     ]
    }
   ],
   "source": [
    "episodes = 10 \n",
    "episodes_total_reward = []\n",
    "episodes_step_count = []\n",
    "\n",
    "for episode in range(1, episodes + 1):\n",
    "    \n",
    "    orig_state = env.reset() # At the beginning of each episode, reset the environment to its starting state\n",
    "    done = False \n",
    "    total_reward = 0 \n",
    "    step_count = 0\n",
    "    \n",
    "    while not done: # Taxi moves until terminal state reached\n",
    "        print('\\n')\n",
    "        env.render() \n",
    "        \n",
    "        print('Episode: ', episode)\n",
    "        \n",
    "        action = env.action_space.sample() # uniform random action\n",
    "        print('Selected Action: ', action, '-', actions_dict[action])\n",
    "        next_state, reward, done, info = env.step(action) # Use the action to determine the next state, reward associated with the action, and if the next state is terminal\n",
    "        print('Next State: ', next_state)\n",
    "        print('Step Reward: ', reward, '-', rewards_dict[reward])\n",
    "        print('Total Reward: ', total_reward)\n",
    "        print('Is terminal?: ', done)\n",
    "        total_reward += reward # Store the episode reward\n",
    "        step_count += 1 \n",
    "        \n",
    "        clear_output(wait=True)\n",
    "    \n",
    "    print('************************************************************************')\n",
    "    print(f'Episode {episode}, completed with total reward: {total_reward}')\n",
    "    print('************************************************************************')\n",
    "    \n",
    "    episodes_total_reward.append(total_reward)\n",
    "    episodes_step_count.append(step_count)\n",
    "\n",
    "env.close()\n",
    "\n",
    "clear_output(wait=True)\n",
    "print('************************************************************************')\n",
    "print('Episode Rewards: ', episodes_total_reward)\n",
    "print('Episode Steps Taken: ', episodes_step_count)\n",
    "print('Average reward over 10 episodes = ', np.average(episodes_total_reward))\n",
    "print('************************************************************************')"
   ]
  },
  {
   "cell_type": "code",
   "execution_count": 66,
   "metadata": {},
   "outputs": [
    {
     "data": {
      "image/png": "[encoded data removed]",
      "text/plain": [
       "<Figure size 864x288 with 1 Axes>"
      ]
     },
     "metadata": {
      "needs_background": "light"
     },
     "output_type": "display_data"
    }
   ],
   "source": [
    "# Plot the total reward by episode with \"dumb\" agent\n",
    "\n",
    "plt.figure(figsize=(12,4))\n",
    "sns.barplot(x = np.arange(1,11), y = episodes_total_reward, color='#F96302', edgecolor='black', linewidth=1.1) \n",
    "sns.lineplot(x = np.arange(0,10), y = np.average(episodes_total_reward), color='black', linewidth=3, label='Average Reward')\n",
    "plt.xlabel('Episode',size=15,labelpad=10)\n",
    "plt.ylabel('Total Reward',size=15,labelpad=10)\n",
    "plt.title('Random Agent - Total Reward by Episode',size=25, pad=10)\n",
    "plt.legend(loc=1)\n",
    "plt.show()"
   ]
  },
  {
   "cell_type": "markdown",
   "metadata": {},
   "source": [
    "# Train an Intelligent Agent using the Q-Learning Algorithm\n",
    "\n",
    "<b>Learn values of Q-table through the agent interacting (trial & error) with the environment</b>\n",
    "\n",
    "* Q-tables are like a <b>cheatsheet</b> of what action to choose that most likely have the highest expected reward\n",
    "* Table is size [state, action]\n",
    "    * state = rows\n",
    "    * columns = actions\n",
    "* Table values = expected discounted reward for choosing an action given a state\n",
    "* Q-tables have difficulty scaling in situations where state/action spaces are large "
   ]
  },
  {
   "cell_type": "markdown",
   "metadata": {},
   "source": [
    "### Q-Learning Algorithm Process: \n",
    "\n",
    "1. Initialize Q-table (rows = # states, columns = # actions, values = 0)\n",
    "2. Choose an action\n",
    "3. Perform the action & measure reward\n",
    "4. Update Q-table"
   ]
  },
  {
   "cell_type": "code",
   "execution_count": 67,
   "metadata": {},
   "outputs": [
    {
     "data": {
      "text/plain": [
       "(500, 6)"
      ]
     },
     "execution_count": 67,
     "metadata": {},
     "output_type": "execute_result"
    }
   ],
   "source": [
    "# STEP 1: Initalize the Q-table (with zeros for values of reward)\n",
    "\n",
    "actions = env.action_space.n\n",
    "states = env.observation_space.n\n",
    "\n",
    "q_table = np.zeros((states, actions)) \n",
    "q_table.shape"
   ]
  },
  {
   "cell_type": "code",
   "execution_count": 68,
   "metadata": {},
   "outputs": [
    {
     "data": {
      "text/plain": [
       "array([[0., 0., 0., 0., 0., 0.],\n",
       "       [0., 0., 0., 0., 0., 0.],\n",
       "       [0., 0., 0., 0., 0., 0.],\n",
       "       ...,\n",
       "       [0., 0., 0., 0., 0., 0.],\n",
       "       [0., 0., 0., 0., 0., 0.],\n",
       "       [0., 0., 0., 0., 0., 0.]])"
      ]
     },
     "execution_count": 68,
     "metadata": {},
     "output_type": "execute_result"
    }
   ],
   "source": [
    "q_table"
   ]
  },
  {
   "cell_type": "markdown",
   "metadata": {},
   "source": [
    "## Bellman Equation\n",
    "* As the agent traverses the environment, it will take actions and receive rewards from the environment\n",
    "* Use the Bellman equation to iteratively update the values of the Q-table\n",
    "* As the agent continues to interact with environment we get closer to converging to the <b>optimal policy</b>"
   ]
  },
  {
   "cell_type": "code",
   "execution_count": 69,
   "metadata": {},
   "outputs": [],
   "source": [
    "def bellman_equation(q_table, state, action, learning_rate, reward, discount_rate, new_state):\n",
    "    '''\n",
    "    Returns newly calculated q-value for state and action q(s,a) using learning rate\n",
    "    \n",
    "    q_table: current q_table and values\n",
    "    reward: scalar value received from environment after taking action\n",
    "    learning_rate: helps you choose if you want to more highly weight the old q-value vs. the new q-value\n",
    "        Higher the learning rate the more quickly the agent will adopt the newly computed Q-value\n",
    "    discount_rate: How much we penalize future rewards (0 = myopic, 1 = no discount)\n",
    "    '''\n",
    "    \n",
    "    return (1-learning_rate) * q_table[state, action] + learning_rate * (reward + discount_rate * np.max(q_table[new_state, :]))  "
   ]
  },
  {
   "cell_type": "markdown",
   "metadata": {},
   "source": [
    "## Exploration vs. Exploitation Trade-off\n",
    "* Tradeoff between taking action with highest reward or exploring environment via random action\n",
    "* Better to explore heavily at first then exploit later\n",
    "* Declay exploration rate (epsilon) over time\n",
    "* <b>Epsilon greedy</b>\n",
    "    * Variable epsilon\n",
    "    * Take random action with probability epsilon, otherwise take action with highest reward "
   ]
  },
  {
   "cell_type": "code",
   "execution_count": 70,
   "metadata": {},
   "outputs": [],
   "source": [
    "def decay_exploration_rate(min_exploration_rate, max_exploration_rate, exploration_decay_rate, episode):\n",
    "    '''\n",
    "    Method to reduce (decay) the rate that we explore (take random actions) in later episodes\n",
    "    '''\n",
    "    return min_exploration_rate + (max_exploration_rate - min_exploration_rate) * np.exp(-exploration_decay_rate * episode) "
   ]
  },
  {
   "cell_type": "markdown",
   "metadata": {},
   "source": [
    "### Train our Agent on 6,000 episodes"
   ]
  },
  {
   "cell_type": "code",
   "execution_count": 71,
   "metadata": {},
   "outputs": [
    {
     "name": "stdout",
     "output_type": "stream",
     "text": [
      "************************************************************************\n",
      "Average reward over 10 episodes =  6.9\n",
      "************************************************************************\n"
     ]
    }
   ],
   "source": [
    "# Parameters for Q-learning\n",
    "num_episodes = 6000 \n",
    "max_steps_per_episode = 100 \n",
    "\n",
    "learning_rate = 0.1\n",
    "discount_rate = 0.99\n",
    "\n",
    "exploration_rate = 1 \n",
    "max_exploration_rate = 1 \n",
    "min_exploration_rate = 0.01\n",
    "exploration_decay_rate = 0.001 \n",
    "\n",
    "# Store all episodes metrics \n",
    "episodes_total_reward = []\n",
    "episodes_exploration_rate = []\n",
    "\n",
    "# Q-Learning Algorithm\n",
    "for episode in range(num_episodes):\n",
    "    \n",
    "    state = env.reset()\n",
    "    done = False \n",
    "    total_reward = 0\n",
    "    \n",
    "    for step in range(max_steps_per_episode):\n",
    "        \n",
    "  \n",
    "        # STEP 2: Use Epsilon greedy method to choose an action\n",
    "        if random.uniform(0,1) > exploration_rate: # randomly choose a random number between 0 - 1 with equal probability\n",
    "            action = np.argmax(q_table[state, :]) # Act greedily - choose the best action given the state \n",
    "        else:\n",
    "            action = env.action_space.sample() # Explore - choose random action\n",
    "            \n",
    "        # STEP 3: Perform the chosen Action and Measure the Reward\n",
    "        new_state, reward, done, info = env.step(action)\n",
    "        \n",
    "        # STEP 4: Update the q-table using the Bellman Equation \n",
    "        q_table[state, action] = bellman_equation(q_table, state, action, learning_rate, reward, discount_rate, new_state)\n",
    "\n",
    "        state = new_state \n",
    "        total_reward += reward\n",
    "        \n",
    "        if done: # if we dropped off passenger break loop \n",
    "            break \n",
    "    \n",
    "    # store episode information\n",
    "    episodes_total_reward.append(total_reward)\n",
    "    episodes_exploration_rate.append(exploration_rate)\n",
    "    \n",
    "    # decay the exploration rate for the next episode\n",
    "    exploration_rate = decay_exploration_rate(min_exploration_rate, max_exploration_rate, exploration_decay_rate, episode)\n",
    "    \n",
    "    \n",
    "print('************************************************************************')\n",
    "print('Average reward over 10 episodes = ', np.average(episodes_total_reward[-10:]))\n",
    "print('************************************************************************')       "
   ]
  },
  {
   "cell_type": "code",
   "execution_count": 72,
   "metadata": {},
   "outputs": [
    {
     "data": {
      "image/png": "[encoded data removed]",
      "text/plain": [
       "<Figure size 864x288 with 1 Axes>"
      ]
     },
     "metadata": {
      "needs_background": "light"
     },
     "output_type": "display_data"
    }
   ],
   "source": [
    "plt.figure(figsize=(12,4))\n",
    "sns.lineplot(x = np.arange(0,len(episodes_total_reward)), y = episodes_total_reward, color='#F96302', linewidth=1.1) \n",
    "sns.lineplot(x = np.arange(0,len(episodes_total_reward)), y = np.average(episodes_total_reward), color='black', linewidth=3, label='Average Reward')\n",
    "plt.xlabel('Episode',size=15,labelpad=10)\n",
    "plt.ylabel('Total Reward',size=15,labelpad=10)\n",
    "plt.title('Q-table Agent - Reward by Episode',size=25, pad=10)\n",
    "plt.legend(loc=4)\n",
    "plt.show()"
   ]
  },
  {
   "cell_type": "code",
   "execution_count": 73,
   "metadata": {},
   "outputs": [
    {
     "data": {
      "image/png": "[encoded data removed]",
      "text/plain": [
       "<Figure size 432x288 with 1 Axes>"
      ]
     },
     "metadata": {
      "needs_background": "light"
     },
     "output_type": "display_data"
    }
   ],
   "source": [
    "plt.figure(figsize=(6,4))\n",
    "sns.lineplot(x = np.arange(0,len(episodes_exploration_rate)), y = episodes_exploration_rate, color='#F96302', linewidth=1.1) \n",
    "plt.xlabel('Episode',size=15,labelpad=10)\n",
    "plt.ylabel('Exploration Rate',size=15,labelpad=10)\n",
    "plt.title('Exploration Rate by Episode',size=25, pad=10)\n",
    "plt.show()"
   ]
  },
  {
   "cell_type": "markdown",
   "metadata": {},
   "source": [
    "### Visualize the Trained/Intelligent Agent run through 3 episodes  "
   ]
  },
  {
   "cell_type": "code",
   "execution_count": 74,
   "metadata": {},
   "outputs": [
    {
     "name": "stdout",
     "output_type": "stream",
     "text": [
      "+---------+\n",
      "|\u001b[35m\u001b[34;1m\u001b[43mR\u001b[0m\u001b[0m\u001b[0m: | : :G|\n",
      "| : | : : |\n",
      "| : : : : |\n",
      "| | : | : |\n",
      "|Y| : |B: |\n",
      "+---------+\n",
      "  (Dropoff)\n",
      "***************************************************************************************************\n",
      "                      Successfully picked up and dropped off passenger                             \n",
      "***************************************************************************************************\n"
     ]
    }
   ],
   "source": [
    "for episode in range(3):\n",
    "    state = env.reset()\n",
    "    done = False \n",
    "    print('EPISODE: ', str(episode + 1)) \n",
    "    time.sleep(1)\n",
    "    \n",
    "    for step in range(max_steps_per_episode):\n",
    "        clear_output(wait=True)\n",
    "        env.render()\n",
    "        time.sleep(0.4)\n",
    "        \n",
    "        action = np.argmax(q_table[state, :]) # get the best action \n",
    "        \n",
    "        new_state, reward, done, info = env.step(action)\n",
    "                \n",
    "        if done:\n",
    "            clear_output(wait=True)\n",
    "            env.render() \n",
    "            \n",
    "            if reward == 20:  # 20 indicates a successful pickup and drop off \n",
    "                print('***************************************************************************************************')\n",
    "                print('                      Successfully picked up and dropped off passenger                             ')\n",
    "                print('***************************************************************************************************')\n",
    "                time.sleep(2)\n",
    "                clear_output(wait=True)\n",
    "            else:\n",
    "                print('***************************************************************************************************')\n",
    "                print('                                           FAILED                                                  ')\n",
    "                print('***************************************************************************************************')\n",
    "                time.sleep(2)\n",
    "                clear_output(wait=True)\n",
    "            \n",
    "            break\n",
    "        \n",
    "        state = new_state \n",
    "\n",
    "env.close()\n",
    "            "
   ]
  },
  {
   "cell_type": "markdown",
   "metadata": {},
   "source": [
    "# Try on your own:\n",
    "\n",
    "What do you expect will happen if you: \n",
    "\n",
    "* Try decreasing the discount rate\n",
    "* Try increasing the learning rate\n",
    "* Try increasing or decreasing the exploration decay rate\n"
   ]
  },
  {
   "cell_type": "markdown",
   "metadata": {},
   "source": [
    "# Resources\n",
    "* Getting started with Gym: https://gym.openai.com/docs/\n",
    "* Udemy - Practical Reinforcement Learning using Python ($): \n",
    "* Github for Taxi-v3 environment: https://github.com/openai/gym/blob/master/gym/envs/toy_text/taxi.py\n",
    "* https://www.baeldung.com/cs/epsilon-greedy-q-learning\n",
    "* https://www.analyticsvidhya.com/blog/2021/02/understanding-the-bellman-optimality-equation-in-reinforcement-learning"
   ]
  },
  {
   "cell_type": "code",
   "execution_count": null,
   "metadata": {},
   "outputs": [],
   "source": []
  }
 ],
 "metadata": {
  "kernelspec": {
   "display_name": "Python 3 (ipykernel)",
   "language": "python",
   "name": "python3"
  },
  "language_info": {
   "codemirror_mode": {
    "name": "ipython",
    "version": 3
   },
   "file_extension": ".py",
   "mimetype": "text/x-python",
   "name": "python",
   "nbconvert_exporter": "python",
   "pygments_lexer": "ipython3",
   "version": "3.7.10"
  }
 },
 "nbformat": 4,
 "nbformat_minor": 4
}
